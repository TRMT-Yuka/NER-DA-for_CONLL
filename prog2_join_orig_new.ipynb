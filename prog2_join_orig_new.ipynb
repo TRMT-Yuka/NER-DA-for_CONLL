{
 "cells": [
  {
   "cell_type": "markdown",
   "metadata": {},
   "source": [
    "## 共通コード"
   ]
  },
  {
   "cell_type": "code",
   "execution_count": 361,
   "metadata": {},
   "outputs": [],
   "source": [
    "import csv\n",
    "\n",
    "def JoinD(original,aug_filemname,x,new_filename):\n",
    "    newline=\"\\n\"\n",
    "    delimiter=\" \"\n",
    "    space_row = [\"\",\"\"]\n",
    "    col_name = [\"-TOKEN-\",\"-LABEL-\"]\n",
    "    \n",
    "    with open(\"data_augment/SimpleDA_BI/\"+aug_filemname, 'r', encoding='UTF-8') as f:\n",
    "        data = f.read()\n",
    "        data = data.split(\"\\n\\n\")\n",
    "\n",
    "    aug_document = []\n",
    "    for sentence in data:\n",
    "        new_sentence_list = []\n",
    "        sentence_list = sentence.split(\"\\n\")\n",
    "\n",
    "        for token in sentence_list:\n",
    "            token_list = token.split(\" \")\n",
    "            new_sentence_list.append(token_list)\n",
    "        aug_document.append(new_sentence_list)\n",
    "\n",
    "    with open(\"data_augment/SimpleDA_BI/\"+\"x\"+str(x)+\"/\"+new_filename, 'w', newline=newline) as file:\n",
    "        file.write(col_name[0]+delimiter+col_name[1]+\"\\n\")\n",
    "        for sentence in aug_document:\n",
    "            for token_list in sentence:\n",
    "                if len(token_list)==2: \n",
    "                    file.write(token_list[0]+delimiter+token_list[1]+\"\\n\")\n",
    "            file.write(\"\\n\")"
   ]
  },
  {
   "cell_type": "code",
   "execution_count": null,
   "metadata": {},
   "outputs": [],
   "source": [
    "# def JoinD(filemname,x):\n",
    "    \n",
    "#     if filename == \"train\":\n",
    "#         n = 15000\n",
    "#     elis filename == \"valid\":\n",
    "#         n = 3500\n",
    "        \n",
    "#     origin_file = \"data_original/\"+filename+\".txt\"\n",
    "#     aug_file = \"data_augment/SimpleDA_BI/\"+str(n*(x-1))+\"_\"+filename+\".txt\"\n",
    "#     new_file = \"data_augment/SimpleDA_BI/\"+filename+\".txt\"\n",
    "    \n",
    "#     with open('data_original/train.txt', 'r', encoding='UTF-8') as f:\n",
    "#     origin_data = f.read()\n",
    "    \n",
    "#     col_name = \"-TOKEN-,-LABEL-\\n\"\n",
    "    "
   ]
  },
  {
   "cell_type": "markdown",
   "metadata": {},
   "source": [
    "# オリジナルデータ＋生成データ"
   ]
  },
  {
   "cell_type": "markdown",
   "metadata": {},
   "source": [
    "## train"
   ]
  },
  {
   "cell_type": "code",
   "execution_count": 362,
   "metadata": {},
   "outputs": [],
   "source": [
    "with open('data_original/train.txt', 'r', encoding='UTF-8') as f:\n",
    "    origin_data = f.read()"
   ]
  },
  {
   "cell_type": "code",
   "execution_count": 363,
   "metadata": {},
   "outputs": [],
   "source": [
    "# storing conll format data in multiple list\n",
    "document = []\n",
    "for sentence in origin_data:#14988 sentences\n",
    "    \n",
    "    new_sentence_list = []\n",
    "    sentence_list = sentence.split(\"\\n\")\n",
    "    \n",
    "    for token in sentence_list:\n",
    "        token_list = token.split(\" \")\n",
    "        new_sentence_list.append(token_list)\n",
    "    document.append(new_sentence_list)\n",
    "    \n",
    "original = []\n",
    "for sentence in document:\n",
    "    for token_list in sentence:\n",
    "        try:\n",
    "            original.append([token_list[0],token_list[3]])\n",
    "        except:\n",
    "            pass\n",
    "    original.append(space_row)"
   ]
  },
  {
   "cell_type": "code",
   "execution_count": 368,
   "metadata": {},
   "outputs": [],
   "source": [
    "# #train\n",
    "n = 15000\n",
    "JoinD(original,str(n*1)+\"_train.txt\",2,\"train.txt\")"
   ]
  },
  {
   "cell_type": "code",
   "execution_count": 369,
   "metadata": {},
   "outputs": [],
   "source": [
    "JoinD(original,str(n*4)+\"_train.txt\",5,\"train.txt\")"
   ]
  },
  {
   "cell_type": "code",
   "execution_count": 370,
   "metadata": {},
   "outputs": [],
   "source": [
    "JoinD(original,str(n*9)+\"_train.txt\",10,\"train.txt\")"
   ]
  },
  {
   "cell_type": "code",
   "execution_count": 371,
   "metadata": {},
   "outputs": [],
   "source": [
    "JoinD(original,str(n*49)+\"_train.txt\",50,\"train.txt\")"
   ]
  },
  {
   "cell_type": "code",
   "execution_count": 372,
   "metadata": {},
   "outputs": [],
   "source": [
    "JoinD(original,str(n*99)+\"_train.txt\",100,\"train.txt\")"
   ]
  },
  {
   "cell_type": "markdown",
   "metadata": {},
   "source": [
    "## valid"
   ]
  },
  {
   "cell_type": "code",
   "execution_count": 373,
   "metadata": {},
   "outputs": [],
   "source": [
    "with open('data_original/valid.txt', 'r', encoding='UTF-8') as f:\n",
    "    data = f.read()\n",
    "    data = data.split(\"\\n\\n\")\n",
    "    data = data[1:3466]"
   ]
  },
  {
   "cell_type": "code",
   "execution_count": 374,
   "metadata": {},
   "outputs": [],
   "source": [
    "# storing conll format data in multiple list\n",
    "document = []\n",
    "for sentence in data:#14988 sentences\n",
    "    \n",
    "    new_sentence_list = []\n",
    "    sentence_list = sentence.split(\"\\n\")\n",
    "    \n",
    "    for token in sentence_list:\n",
    "        token_list = token.split(\" \")\n",
    "        new_sentence_list.append(token_list)\n",
    "    document.append(new_sentence_list)\n",
    "    \n",
    "original = []\n",
    "for sentence in document:\n",
    "    for token_list in sentence:\n",
    "        try:\n",
    "            original.append([token_list[0],token_list[3]])\n",
    "        except:\n",
    "            pass\n",
    "    original.append([\"\",\"\"])"
   ]
  },
  {
   "cell_type": "code",
   "execution_count": 375,
   "metadata": {},
   "outputs": [],
   "source": [
    "#valid\n",
    "n = 3500\n",
    "JoinD(original,str(n*1)+\"_valid.txt\",2,\"valid.txt\")"
   ]
  },
  {
   "cell_type": "code",
   "execution_count": 376,
   "metadata": {},
   "outputs": [],
   "source": [
    "JoinD(original,str(n*4)+\"_valid.txt\",5,\"valid.txt\")"
   ]
  },
  {
   "cell_type": "code",
   "execution_count": 377,
   "metadata": {},
   "outputs": [],
   "source": [
    "JoinD(original,str(n*9)+\"_valid.txt\",10,\"valid.txt\")"
   ]
  },
  {
   "cell_type": "code",
   "execution_count": 378,
   "metadata": {},
   "outputs": [],
   "source": [
    "JoinD(original,str(n*49)+\"_valid.txt\",50,\"valid.txt\")"
   ]
  },
  {
   "cell_type": "code",
   "execution_count": 379,
   "metadata": {},
   "outputs": [],
   "source": [
    "JoinD(original,str(n*99)+\"_valid.txt\",100,\"valid.txt\")"
   ]
  },
  {
   "cell_type": "markdown",
   "metadata": {},
   "source": [
    "## test"
   ]
  },
  {
   "cell_type": "code",
   "execution_count": 347,
   "metadata": {},
   "outputs": [],
   "source": [
    "with open('data_original/test.txt', 'r', encoding='UTF-8') as f:\n",
    "    data = f.read()\n",
    "    data = data.split(\"\\n\\n\")"
   ]
  },
  {
   "cell_type": "code",
   "execution_count": 348,
   "metadata": {},
   "outputs": [],
   "source": [
    "# storing conll format data in multiple list\n",
    "document = []\n",
    "for sentence in data:#14988 sentences\n",
    "    \n",
    "    new_sentence_list = []\n",
    "    sentence_list = sentence.split(\"\\n\")\n",
    "    \n",
    "    for token in sentence_list:\n",
    "        token_list = token.split(\" \")\n",
    "        new_sentence_list.append(token_list)\n",
    "    document.append(new_sentence_list)\n",
    "    \n",
    "original = []\n",
    "for sentence in document:\n",
    "    for token_list in sentence:\n",
    "        try:\n",
    "            original.append([token_list[0],token_list[3]])\n",
    "        except:\n",
    "            pass\n",
    "    original.append(space_row)\n",
    "\n",
    "\n",
    "with open(new_filename, 'w', newline=newline) as file:\n",
    "    augmentation = []\n",
    "    for sentence in aug_document:\n",
    "        for token_list in sentence:\n",
    "            if len(token_list)==2: \n",
    "                augmentation.append(token_list)\n",
    "\n",
    "                file.write(token_list[0]+delimiter+token_list[1]\"\\n\")\n",
    "        file.write(\"\\n\")"
   ]
  },
  {
   "cell_type": "code",
   "execution_count": 349,
   "metadata": {},
   "outputs": [],
   "source": [
    "import csv\n",
    "\n",
    "new_csv_filename = \"data_augment/SimpleDA_BI/test.csv\"\n",
    "\n",
    "with open(new_csv_filename, 'w', newline='') as file:\n",
    "    writer = csv.writer(file,delimiter=' ')\n",
    "    writer.writerows(original)"
   ]
  },
  {
   "cell_type": "markdown",
   "metadata": {},
   "source": [
    "### ちゃんと読み込めるかテスト"
   ]
  },
  {
   "cell_type": "code",
   "execution_count": 350,
   "metadata": {},
   "outputs": [
    {
     "name": "stdout",
     "output_type": "stream",
     "text": [
      "          -DOCSTART-       O\n",
      "0                 EU   B-ORG\n",
      "1            rejects       O\n",
      "2             German  B-MISC\n",
      "3               call       O\n",
      "4                 to       O\n",
      "...              ...     ...\n",
      "272016  historically       O\n",
      "272017          high       O\n",
      "272018             .       O\n",
      "272019           NaN     NaN\n",
      "272020           NaN     NaN\n",
      "\n",
      "[272021 rows x 2 columns]\n"
     ]
    }
   ],
   "source": [
    "df = pd.read_csv(\"data_augment/SimpleDA_BI/Join_x2_train.csv\")\n",
    "print(df)"
   ]
  },
  {
   "cell_type": "code",
   "execution_count": 351,
   "metadata": {},
   "outputs": [
    {
     "name": "stdout",
     "output_type": "stream",
     "text": [
      "            -DOCSTART-      O\n",
      "0              CRICKET      O\n",
      "1                    -      O\n",
      "2       LEICESTERSHIRE  B-ORG\n",
      "3                 TAKE      O\n",
      "4                 OVER      O\n",
      "...                ...    ...\n",
      "110355             not      O\n",
      "110356       elaborate      O\n",
      "110357               .      O\n",
      "110358             NaN    NaN\n",
      "110359             NaN    NaN\n",
      "\n",
      "[110360 rows x 2 columns]\n"
     ]
    }
   ],
   "source": [
    "df = pd.read_csv(\"data_augment/SimpleDA_BI/Join_x2_valid.csv\")\n",
    "print(df)"
   ]
  },
  {
   "cell_type": "code",
   "execution_count": 352,
   "metadata": {},
   "outputs": [
    {
     "name": "stdout",
     "output_type": "stream",
     "text": [
      "       -DOCSTART-      O\n",
      "0      -DOCSTART-      O\n",
      "1             NaN    NaN\n",
      "2          SOCCER      O\n",
      "3               -      O\n",
      "4           JAPAN  B-LOC\n",
      "...           ...    ...\n",
      "50346           ,      O\n",
      "50347       Bobby  B-PER\n",
      "50348           .      O\n",
      "50349         NaN    NaN\n",
      "50350         NaN    NaN\n",
      "\n",
      "[50351 rows x 2 columns]\n"
     ]
    }
   ],
   "source": [
    "import pandas as pd\n",
    "\n",
    "df = pd.read_csv(\"data_augment/SimpleDA_BI/test.csv\")\n",
    "print(df)"
   ]
  },
  {
   "cell_type": "code",
   "execution_count": null,
   "metadata": {},
   "outputs": [],
   "source": []
  }
 ],
 "metadata": {
  "kernelspec": {
   "display_name": "Python 3",
   "language": "python",
   "name": "python3"
  },
  "language_info": {
   "codemirror_mode": {
    "name": "ipython",
    "version": 3
   },
   "file_extension": ".py",
   "mimetype": "text/x-python",
   "name": "python",
   "nbconvert_exporter": "python",
   "pygments_lexer": "ipython3",
   "version": "3.9.0"
  }
 },
 "nbformat": 4,
 "nbformat_minor": 5
}
