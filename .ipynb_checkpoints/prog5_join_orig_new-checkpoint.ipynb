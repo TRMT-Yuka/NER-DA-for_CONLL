{
 "cells": [
  {
   "cell_type": "markdown",
   "id": "2946b04b",
   "metadata": {},
   "source": [
    "## 共通コード"
   ]
  },
  {
   "cell_type": "code",
   "execution_count": 22,
   "id": "e29d1356",
   "metadata": {},
   "outputs": [],
   "source": [
    "import csv\n",
    "\n",
    "space_row = [\"\",\"\"]\n",
    "newline=\"\\n\"\n",
    "delimiter=\" \"\n",
    "col_name = [\"-TOKEN-\",\"-LABEL-\"]\n",
    "\n",
    "def JoinD(original,aug_filemname,x,new_filename):\n",
    "    with open(\"data_augment/SyntacticDA_BI/\"+aug_filemname, 'r', encoding='UTF-8') as f:\n",
    "        data = f.read()\n",
    "        data = data.split(\"\\n\\n\")\n",
    "\n",
    "    aug_document = []\n",
    "    for sentence in data:\n",
    "        new_sentence_list = []\n",
    "        sentence_list = sentence.split(\"\\n\")\n",
    "\n",
    "        for token in sentence_list:\n",
    "            token_list = token.split(\" \")\n",
    "            new_sentence_list.append(token_list)\n",
    "        aug_document.append(new_sentence_list)\n",
    "\n",
    "    with open(\"data_augment/SyntacticDA_BI/\"+\"x\"+str(x)+\"/\"+new_filename, 'w', newline=newline) as file:\n",
    "        file.write(col_name[0]+delimiter+col_name[1]+\"\\n\")\n",
    "        for sentence in aug_document:\n",
    "            for token_list in sentence:\n",
    "                if len(token_list)==2: \n",
    "                    file.write(token_list[0]+delimiter+token_list[1]+\"\\n\")\n",
    "            file.write(\"\\n\")"
   ]
  },
  {
   "cell_type": "code",
   "execution_count": 7,
   "id": "620d6ada",
   "metadata": {},
   "outputs": [],
   "source": [
    "# def JoinD(filemname,x):\n",
    "    \n",
    "#     if filename == \"train\":\n",
    "#         n = 15000\n",
    "#     elis filename == \"valid\":\n",
    "#         n = 3500\n",
    "        \n",
    "#     origin_file = \"data_original/\"+filename+\".txt\"\n",
    "#     aug_file = \"data_augment/SyntacticDA_BI/\"+str(n*(x-1))+\"_\"+filename+\".txt\"\n",
    "#     new_file = \"data_augment/SyntacticDA_BI/\"+filename+\".txt\"\n",
    "    \n",
    "#     with open('data_original/train.txt', 'r', encoding='UTF-8') as f:\n",
    "#     origin_data = f.read()\n",
    "    \n",
    "#     col_name = \"-TOKEN-,-LABEL-\\n\"\n",
    "    "
   ]
  },
  {
   "cell_type": "markdown",
   "id": "ef817ba0",
   "metadata": {},
   "source": [
    "# オリジナルデータ＋生成データ"
   ]
  },
  {
   "cell_type": "markdown",
   "id": "f7e33b39",
   "metadata": {},
   "source": [
    "## train"
   ]
  },
  {
   "cell_type": "code",
   "execution_count": 8,
   "id": "2aea039e",
   "metadata": {},
   "outputs": [],
   "source": [
    "with open('data_original/train.txt', 'r', encoding='UTF-8') as f:\n",
    "    origin_data = f.read()"
   ]
  },
  {
   "cell_type": "code",
   "execution_count": 9,
   "id": "426e5c25",
   "metadata": {},
   "outputs": [],
   "source": [
    "# storing conll format data in multiple list\n",
    "document = []\n",
    "for sentence in origin_data:#14988 sentences\n",
    "    \n",
    "    new_sentence_list = []\n",
    "    sentence_list = sentence.split(\"\\n\")\n",
    "    \n",
    "    for token in sentence_list:\n",
    "        token_list = token.split(\" \")\n",
    "        new_sentence_list.append(token_list)\n",
    "    document.append(new_sentence_list)\n",
    "    \n",
    "original = []\n",
    "for sentence in document:\n",
    "    for token_list in sentence:\n",
    "        try:\n",
    "            original.append([token_list[0],token_list[3]])\n",
    "        except:\n",
    "            pass\n",
    "    original.append(space_row)"
   ]
  },
  {
   "cell_type": "code",
   "execution_count": null,
   "id": "9464fe08",
   "metadata": {},
   "outputs": [],
   "source": [
    "# data_augment/SyntacticDA_BI/ 以下にx2,x5,x10のディレクトリをあらかじめ作成"
   ]
  },
  {
   "cell_type": "code",
   "execution_count": 11,
   "id": "ffde1d60",
   "metadata": {},
   "outputs": [],
   "source": [
    "# #train\n",
    "n = 15000\n",
    "JoinD(original,str(n*1)+\"_train.txt\",2,\"train.txt\")"
   ]
  },
  {
   "cell_type": "code",
   "execution_count": 12,
   "id": "2e546ad0",
   "metadata": {},
   "outputs": [],
   "source": [
    "JoinD(original,str(n*4)+\"_train.txt\",5,\"train.txt\")"
   ]
  },
  {
   "cell_type": "code",
   "execution_count": 13,
   "id": "e6dee8bf",
   "metadata": {},
   "outputs": [],
   "source": [
    "JoinD(original,str(n*9)+\"_train.txt\",10,\"train.txt\")"
   ]
  },
  {
   "cell_type": "markdown",
   "id": "90426a42",
   "metadata": {},
   "source": [
    "## valid"
   ]
  },
  {
   "cell_type": "code",
   "execution_count": 14,
   "id": "2054cc3e",
   "metadata": {},
   "outputs": [],
   "source": [
    "with open('data_original/valid.txt', 'r', encoding='UTF-8') as f:\n",
    "    data = f.read()\n",
    "    data = data.split(\"\\n\\n\")\n",
    "    data = data[1:3466]"
   ]
  },
  {
   "cell_type": "code",
   "execution_count": 15,
   "id": "fac7a649",
   "metadata": {},
   "outputs": [],
   "source": [
    "# storing conll format data in multiple list\n",
    "document = []\n",
    "for sentence in data:#14988 sentences\n",
    "    \n",
    "    new_sentence_list = []\n",
    "    sentence_list = sentence.split(\"\\n\")\n",
    "    \n",
    "    for token in sentence_list:\n",
    "        token_list = token.split(\" \")\n",
    "        new_sentence_list.append(token_list)\n",
    "    document.append(new_sentence_list)\n",
    "    \n",
    "original = []\n",
    "for sentence in document:\n",
    "    for token_list in sentence:\n",
    "        try:\n",
    "            original.append([token_list[0],token_list[3]])\n",
    "        except:\n",
    "            pass\n",
    "    original.append([\"\",\"\"])"
   ]
  },
  {
   "cell_type": "code",
   "execution_count": 16,
   "id": "fcee46ac",
   "metadata": {},
   "outputs": [],
   "source": [
    "#valid\n",
    "n = 3500\n",
    "JoinD(original,str(n*1)+\"_valid.txt\",2,\"valid.txt\")"
   ]
  },
  {
   "cell_type": "code",
   "execution_count": 17,
   "id": "0d2faeb7",
   "metadata": {},
   "outputs": [],
   "source": [
    "JoinD(original,str(n*4)+\"_valid.txt\",5,\"valid.txt\")"
   ]
  },
  {
   "cell_type": "code",
   "execution_count": 18,
   "id": "1045cbce",
   "metadata": {},
   "outputs": [],
   "source": [
    "JoinD(original,str(n*9)+\"_valid.txt\",10,\"valid.txt\")"
   ]
  },
  {
   "cell_type": "markdown",
   "id": "bc3609b2",
   "metadata": {},
   "source": [
    "## test"
   ]
  },
  {
   "cell_type": "code",
   "execution_count": 347,
   "id": "e517c4ca",
   "metadata": {},
   "outputs": [],
   "source": [
    "with open('data_original/test.txt', 'r', encoding='UTF-8') as f:\n",
    "    data = f.read()\n",
    "    data = data.split(\"\\n\\n\")"
   ]
  },
  {
   "cell_type": "code",
   "execution_count": 24,
   "id": "75beaf1b",
   "metadata": {},
   "outputs": [],
   "source": [
    "# storing conll format data in multiple list\n",
    "document = []\n",
    "for sentence in data:#14988 sentences\n",
    "    \n",
    "    new_sentence_list = []\n",
    "    sentence_list = sentence.split(\"\\n\")\n",
    "    \n",
    "    for token in sentence_list:\n",
    "        token_list = token.split(\" \")\n",
    "        new_sentence_list.append(token_list)\n",
    "    document.append(new_sentence_list)\n",
    "    \n",
    "original = []\n",
    "for sentence in document:\n",
    "    for token_list in sentence:\n",
    "        try:\n",
    "            original.append([token_list[0],token_list[3]])\n",
    "        except:\n",
    "            pass\n",
    "    original.append(space_row)\n",
    "\n",
    "new_filename=\"data_augment/SyntacticDA_BI/test.txt\"\n",
    "with open(new_filename, 'w', newline=newline) as file:\n",
    "    for sentence in original:\n",
    "        for token_list in sentence:\n",
    "            if len(token_list)==2: \n",
    "\n",
    "                file.write(token_list[0]+delimiter+token_list[1]+\"\\n\")\n",
    "        file.write(\"\\n\")\n",
    "#生成された　/SyntacticDA_BI/test.txt　を各x2~x10配下にコピペ"
   ]
  },
  {
   "cell_type": "code",
   "execution_count": 1,
   "id": "c9e70b90-bddb-4705-8992-b174a161880c",
   "metadata": {},
   "outputs": [
    {
     "name": "stdout",
     "output_type": "stream",
     "text": [
      "True\n"
     ]
    }
   ],
   "source": [
    "import torch\n",
    "print(torch.cuda.is_available())"
   ]
  },
  {
   "cell_type": "code",
   "execution_count": null,
   "id": "61ea4519-5eab-4f0e-b132-4f01a9f45199",
   "metadata": {},
   "outputs": [],
   "source": []
  }
 ],
 "metadata": {
  "kernelspec": {
   "display_name": "Python 3 (ipykernel)",
   "language": "python",
   "name": "python3"
  },
  "language_info": {
   "codemirror_mode": {
    "name": "ipython",
    "version": 3
   },
   "file_extension": ".py",
   "mimetype": "text/x-python",
   "name": "python",
   "nbconvert_exporter": "python",
   "pygments_lexer": "ipython3",
   "version": "3.9.6"
  }
 },
 "nbformat": 4,
 "nbformat_minor": 5
}
